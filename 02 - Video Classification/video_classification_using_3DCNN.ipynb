{
  "metadata": {
    "kernelspec": {
      "display_name": "Python 3",
      "name": "python3"
    },
    "language_info": {
      "name": "python",
      "version": "3.10.12",
      "mimetype": "text/x-python",
      "codemirror_mode": {
        "name": "ipython",
        "version": 3
      },
      "pygments_lexer": "ipython3",
      "nbconvert_exporter": "python",
      "file_extension": ".py"
    },
    "colab": {
      "provenance": [],
      "gpuType": "T4"
    },
    "accelerator": "GPU",
    "widgets": {
      "application/vnd.jupyter.widget-state+json": {
        "a4479c54026d4f5294052513ee96bb82": {
          "model_module": "@jupyter-widgets/controls",
          "model_name": "HBoxModel",
          "model_module_version": "1.5.0",
          "state": {
            "_dom_classes": [],
            "_model_module": "@jupyter-widgets/controls",
            "_model_module_version": "1.5.0",
            "_model_name": "HBoxModel",
            "_view_count": null,
            "_view_module": "@jupyter-widgets/controls",
            "_view_module_version": "1.5.0",
            "_view_name": "HBoxView",
            "box_style": "",
            "children": [
              "IPY_MODEL_634616a1640d4a17984748489a7a50e3",
              "IPY_MODEL_c7b2ade0dfee4bf5a43b6dabbe2855ba",
              "IPY_MODEL_90cce9c6fa7d4023a466369c66924a94"
            ],
            "layout": "IPY_MODEL_8abf6a84765948aa800e98d18b6f1420"
          }
        },
        "634616a1640d4a17984748489a7a50e3": {
          "model_module": "@jupyter-widgets/controls",
          "model_name": "HTMLModel",
          "model_module_version": "1.5.0",
          "state": {
            "_dom_classes": [],
            "_model_module": "@jupyter-widgets/controls",
            "_model_module_version": "1.5.0",
            "_model_name": "HTMLModel",
            "_view_count": null,
            "_view_module": "@jupyter-widgets/controls",
            "_view_module_version": "1.5.0",
            "_view_name": "HTMLView",
            "description": "",
            "description_tooltip": null,
            "layout": "IPY_MODEL_0c411ab81f764c6ebecc452576cdde59",
            "placeholder": "​",
            "style": "IPY_MODEL_2ac51d6669f64e15bde6609fa16b4c21",
            "value": "Epoch 0: "
          }
        },
        "c7b2ade0dfee4bf5a43b6dabbe2855ba": {
          "model_module": "@jupyter-widgets/controls",
          "model_name": "FloatProgressModel",
          "model_module_version": "1.5.0",
          "state": {
            "_dom_classes": [],
            "_model_module": "@jupyter-widgets/controls",
            "_model_module_version": "1.5.0",
            "_model_name": "FloatProgressModel",
            "_view_count": null,
            "_view_module": "@jupyter-widgets/controls",
            "_view_module_version": "1.5.0",
            "_view_name": "ProgressView",
            "bar_style": "",
            "description": "",
            "description_tooltip": null,
            "layout": "IPY_MODEL_2da39f01ebf0469081227ce1b344a87a",
            "max": 1,
            "min": 0,
            "orientation": "horizontal",
            "style": "IPY_MODEL_48826fb91bb94a48b002d3c248424fda",
            "value": 1
          }
        },
        "90cce9c6fa7d4023a466369c66924a94": {
          "model_module": "@jupyter-widgets/controls",
          "model_name": "HTMLModel",
          "model_module_version": "1.5.0",
          "state": {
            "_dom_classes": [],
            "_model_module": "@jupyter-widgets/controls",
            "_model_module_version": "1.5.0",
            "_model_name": "HTMLModel",
            "_view_count": null,
            "_view_module": "@jupyter-widgets/controls",
            "_view_module_version": "1.5.0",
            "_view_name": "HTMLView",
            "description": "",
            "description_tooltip": null,
            "layout": "IPY_MODEL_4f038b9560904b8bae74db5b32c097b9",
            "placeholder": "​",
            "style": "IPY_MODEL_aeb24b563fb84276a8c98e51adc25ec0",
            "value": " 700/? [14:54&lt;00:00,  1.28s/it, v_num=0]"
          }
        },
        "8abf6a84765948aa800e98d18b6f1420": {
          "model_module": "@jupyter-widgets/base",
          "model_name": "LayoutModel",
          "model_module_version": "1.2.0",
          "state": {
            "_model_module": "@jupyter-widgets/base",
            "_model_module_version": "1.2.0",
            "_model_name": "LayoutModel",
            "_view_count": null,
            "_view_module": "@jupyter-widgets/base",
            "_view_module_version": "1.2.0",
            "_view_name": "LayoutView",
            "align_content": null,
            "align_items": null,
            "align_self": null,
            "border": null,
            "bottom": null,
            "display": "inline-flex",
            "flex": null,
            "flex_flow": "row wrap",
            "grid_area": null,
            "grid_auto_columns": null,
            "grid_auto_flow": null,
            "grid_auto_rows": null,
            "grid_column": null,
            "grid_gap": null,
            "grid_row": null,
            "grid_template_areas": null,
            "grid_template_columns": null,
            "grid_template_rows": null,
            "height": null,
            "justify_content": null,
            "justify_items": null,
            "left": null,
            "margin": null,
            "max_height": null,
            "max_width": null,
            "min_height": null,
            "min_width": null,
            "object_fit": null,
            "object_position": null,
            "order": null,
            "overflow": null,
            "overflow_x": null,
            "overflow_y": null,
            "padding": null,
            "right": null,
            "top": null,
            "visibility": null,
            "width": "100%"
          }
        },
        "0c411ab81f764c6ebecc452576cdde59": {
          "model_module": "@jupyter-widgets/base",
          "model_name": "LayoutModel",
          "model_module_version": "1.2.0",
          "state": {
            "_model_module": "@jupyter-widgets/base",
            "_model_module_version": "1.2.0",
            "_model_name": "LayoutModel",
            "_view_count": null,
            "_view_module": "@jupyter-widgets/base",
            "_view_module_version": "1.2.0",
            "_view_name": "LayoutView",
            "align_content": null,
            "align_items": null,
            "align_self": null,
            "border": null,
            "bottom": null,
            "display": null,
            "flex": null,
            "flex_flow": null,
            "grid_area": null,
            "grid_auto_columns": null,
            "grid_auto_flow": null,
            "grid_auto_rows": null,
            "grid_column": null,
            "grid_gap": null,
            "grid_row": null,
            "grid_template_areas": null,
            "grid_template_columns": null,
            "grid_template_rows": null,
            "height": null,
            "justify_content": null,
            "justify_items": null,
            "left": null,
            "margin": null,
            "max_height": null,
            "max_width": null,
            "min_height": null,
            "min_width": null,
            "object_fit": null,
            "object_position": null,
            "order": null,
            "overflow": null,
            "overflow_x": null,
            "overflow_y": null,
            "padding": null,
            "right": null,
            "top": null,
            "visibility": null,
            "width": null
          }
        },
        "2ac51d6669f64e15bde6609fa16b4c21": {
          "model_module": "@jupyter-widgets/controls",
          "model_name": "DescriptionStyleModel",
          "model_module_version": "1.5.0",
          "state": {
            "_model_module": "@jupyter-widgets/controls",
            "_model_module_version": "1.5.0",
            "_model_name": "DescriptionStyleModel",
            "_view_count": null,
            "_view_module": "@jupyter-widgets/base",
            "_view_module_version": "1.2.0",
            "_view_name": "StyleView",
            "description_width": ""
          }
        },
        "2da39f01ebf0469081227ce1b344a87a": {
          "model_module": "@jupyter-widgets/base",
          "model_name": "LayoutModel",
          "model_module_version": "1.2.0",
          "state": {
            "_model_module": "@jupyter-widgets/base",
            "_model_module_version": "1.2.0",
            "_model_name": "LayoutModel",
            "_view_count": null,
            "_view_module": "@jupyter-widgets/base",
            "_view_module_version": "1.2.0",
            "_view_name": "LayoutView",
            "align_content": null,
            "align_items": null,
            "align_self": null,
            "border": null,
            "bottom": null,
            "display": null,
            "flex": "2",
            "flex_flow": null,
            "grid_area": null,
            "grid_auto_columns": null,
            "grid_auto_flow": null,
            "grid_auto_rows": null,
            "grid_column": null,
            "grid_gap": null,
            "grid_row": null,
            "grid_template_areas": null,
            "grid_template_columns": null,
            "grid_template_rows": null,
            "height": null,
            "justify_content": null,
            "justify_items": null,
            "left": null,
            "margin": null,
            "max_height": null,
            "max_width": null,
            "min_height": null,
            "min_width": null,
            "object_fit": null,
            "object_position": null,
            "order": null,
            "overflow": null,
            "overflow_x": null,
            "overflow_y": null,
            "padding": null,
            "right": null,
            "top": null,
            "visibility": null,
            "width": null
          }
        },
        "48826fb91bb94a48b002d3c248424fda": {
          "model_module": "@jupyter-widgets/controls",
          "model_name": "ProgressStyleModel",
          "model_module_version": "1.5.0",
          "state": {
            "_model_module": "@jupyter-widgets/controls",
            "_model_module_version": "1.5.0",
            "_model_name": "ProgressStyleModel",
            "_view_count": null,
            "_view_module": "@jupyter-widgets/base",
            "_view_module_version": "1.2.0",
            "_view_name": "StyleView",
            "bar_color": null,
            "description_width": ""
          }
        },
        "4f038b9560904b8bae74db5b32c097b9": {
          "model_module": "@jupyter-widgets/base",
          "model_name": "LayoutModel",
          "model_module_version": "1.2.0",
          "state": {
            "_model_module": "@jupyter-widgets/base",
            "_model_module_version": "1.2.0",
            "_model_name": "LayoutModel",
            "_view_count": null,
            "_view_module": "@jupyter-widgets/base",
            "_view_module_version": "1.2.0",
            "_view_name": "LayoutView",
            "align_content": null,
            "align_items": null,
            "align_self": null,
            "border": null,
            "bottom": null,
            "display": null,
            "flex": null,
            "flex_flow": null,
            "grid_area": null,
            "grid_auto_columns": null,
            "grid_auto_flow": null,
            "grid_auto_rows": null,
            "grid_column": null,
            "grid_gap": null,
            "grid_row": null,
            "grid_template_areas": null,
            "grid_template_columns": null,
            "grid_template_rows": null,
            "height": null,
            "justify_content": null,
            "justify_items": null,
            "left": null,
            "margin": null,
            "max_height": null,
            "max_width": null,
            "min_height": null,
            "min_width": null,
            "object_fit": null,
            "object_position": null,
            "order": null,
            "overflow": null,
            "overflow_x": null,
            "overflow_y": null,
            "padding": null,
            "right": null,
            "top": null,
            "visibility": null,
            "width": null
          }
        },
        "aeb24b563fb84276a8c98e51adc25ec0": {
          "model_module": "@jupyter-widgets/controls",
          "model_name": "DescriptionStyleModel",
          "model_module_version": "1.5.0",
          "state": {
            "_model_module": "@jupyter-widgets/controls",
            "_model_module_version": "1.5.0",
            "_model_name": "DescriptionStyleModel",
            "_view_count": null,
            "_view_module": "@jupyter-widgets/base",
            "_view_module_version": "1.2.0",
            "_view_name": "StyleView",
            "description_width": ""
          }
        }
      }
    }
  },
  "nbformat_minor": 0,
  "nbformat": 4,
  "cells": [
    {
      "cell_type": "code",
      "source": [
        "!pip install -q kaggle\n",
        "!gdown \"1CiOTLdUpSZ3d-2io-tALvhoaqxDVMXw2\""
      ],
      "metadata": {
        "_uuid": "8f2839f25d086af736a60e9eeb907d3b93b6e0e5",
        "_cell_guid": "b1076dfc-b9ad-4769-8c92-a6c4dae69d19",
        "execution": {
          "iopub.status.busy": "2023-08-13T12:36:37.445207Z",
          "iopub.execute_input": "2023-08-13T12:36:37.445609Z",
          "iopub.status.idle": "2023-08-13T12:36:39.185195Z",
          "shell.execute_reply.started": "2023-08-13T12:36:37.445578Z",
          "shell.execute_reply": "2023-08-13T12:36:39.184145Z"
        },
        "trusted": true,
        "colab": {
          "base_uri": "https://localhost:8080/"
        },
        "id": "UKeCYvA17cRn",
        "outputId": "f2d861b6-c72b-488d-845b-3142d82d3723"
      },
      "execution_count": 1,
      "outputs": [
        {
          "output_type": "stream",
          "name": "stdout",
          "text": [
            "Downloading...\n",
            "From: https://drive.google.com/uc?id=1CiOTLdUpSZ3d-2io-tALvhoaqxDVMXw2\n",
            "To: /content/kaggle.json\n",
            "\r  0% 0.00/66.0 [00:00<?, ?B/s]\r100% 66.0/66.0 [00:00<00:00, 369kB/s]\n"
          ]
        }
      ]
    },
    {
      "cell_type": "code",
      "source": [
        "!mkdir ~/.kaggle\n",
        "!cp kaggle.json ~/.kaggle/\n",
        "!chmod 600 ~/.kaggle/kaggle.json"
      ],
      "metadata": {
        "id": "16E0cTUE7t5-"
      },
      "execution_count": 2,
      "outputs": []
    },
    {
      "cell_type": "code",
      "source": [
        "!kaggle datasets download -d \"mohamedmustafa/real-life-violence-situations-dataset\""
      ],
      "metadata": {
        "colab": {
          "base_uri": "https://localhost:8080/"
        },
        "id": "8fIepEk27t01",
        "outputId": "ef4b3b9c-ce71-41de-e612-5fc1201241da"
      },
      "execution_count": 3,
      "outputs": [
        {
          "output_type": "stream",
          "name": "stdout",
          "text": [
            "Downloading real-life-violence-situations-dataset.zip to /content\n",
            "100% 3.58G/3.58G [03:16<00:00, 14.7MB/s]\n",
            "100% 3.58G/3.58G [03:16<00:00, 19.6MB/s]\n"
          ]
        }
      ]
    },
    {
      "cell_type": "code",
      "source": [
        "!unzip /content/real-life-violence-situations-dataset.zip > extract.txt"
      ],
      "metadata": {
        "id": "BORQlOAh8yo2"
      },
      "execution_count": 4,
      "outputs": []
    },
    {
      "cell_type": "code",
      "source": [
        "pip install pytorchvideo torchvideo pytorch_lightning > install.txt"
      ],
      "metadata": {
        "execution": {
          "iopub.status.busy": "2023-08-13T12:36:39.187877Z",
          "iopub.execute_input": "2023-08-13T12:36:39.188408Z",
          "iopub.status.idle": "2023-08-13T12:37:05.779104Z",
          "shell.execute_reply.started": "2023-08-13T12:36:39.188360Z",
          "shell.execute_reply": "2023-08-13T12:37:05.778005Z"
        },
        "trusted": true,
        "id": "BKl4EQmx7cRp"
      },
      "execution_count": 5,
      "outputs": []
    },
    {
      "cell_type": "code",
      "source": [
        "import torchvideo\n",
        "import os\n",
        "import pandas as pd\n",
        "import numpy as np\n",
        "import matplotlib.pyplot as plt\n",
        "from glob import glob\n",
        "from sklearn.model_selection import train_test_split"
      ],
      "metadata": {
        "execution": {
          "iopub.status.busy": "2023-08-13T12:37:22.071309Z",
          "iopub.execute_input": "2023-08-13T12:37:22.071771Z",
          "iopub.status.idle": "2023-08-13T12:37:22.835742Z",
          "shell.execute_reply.started": "2023-08-13T12:37:22.071719Z",
          "shell.execute_reply": "2023-08-13T12:37:22.834494Z"
        },
        "trusted": true,
        "id": "Z90zKuN77cRq"
      },
      "execution_count": 6,
      "outputs": []
    },
    {
      "cell_type": "code",
      "source": [
        "# !mv \"Real Life Violence Dataset\" Real_Life_Violence_Dataset"
      ],
      "metadata": {
        "id": "ryeOq4DS-EOx"
      },
      "execution_count": 7,
      "outputs": []
    },
    {
      "cell_type": "code",
      "source": [
        "os.listdir(\"Real Life Violence Dataset\")"
      ],
      "metadata": {
        "execution": {
          "iopub.status.busy": "2023-08-13T12:37:22.848650Z",
          "iopub.execute_input": "2023-08-13T12:37:22.849061Z",
          "iopub.status.idle": "2023-08-13T12:37:22.862998Z",
          "shell.execute_reply.started": "2023-08-13T12:37:22.849028Z",
          "shell.execute_reply": "2023-08-13T12:37:22.861819Z"
        },
        "trusted": true,
        "colab": {
          "base_uri": "https://localhost:8080/"
        },
        "id": "2u-GtdT07cRq",
        "outputId": "60d48235-5c56-4b1f-9ebd-34f04c868bcc"
      },
      "execution_count": 8,
      "outputs": [
        {
          "output_type": "execute_result",
          "data": {
            "text/plain": [
              "['NonViolence', 'Violence']"
            ]
          },
          "metadata": {},
          "execution_count": 8
        }
      ]
    },
    {
      "cell_type": "code",
      "source": [
        "# non = glob(\"Real Life Violence Dataset/NonViolence/*\")\n",
        "# violence = glob(\"Real Life Violence Dataset/Violence/*\")\n",
        "\n",
        "# labels = [0] * len(non) + [1] * len(violence)"
      ],
      "metadata": {
        "execution": {
          "iopub.status.busy": "2023-08-13T12:38:57.781610Z",
          "iopub.execute_input": "2023-08-13T12:38:57.783305Z",
          "iopub.status.idle": "2023-08-13T12:38:57.805265Z",
          "shell.execute_reply.started": "2023-08-13T12:38:57.783242Z",
          "shell.execute_reply": "2023-08-13T12:38:57.803543Z"
        },
        "trusted": true,
        "id": "VldDHlCl7cRq"
      },
      "execution_count": 9,
      "outputs": []
    },
    {
      "cell_type": "code",
      "source": [
        "# data = pd.DataFrame(zip(non + violence , labels), columns=['file', 'label'])\n",
        "# data['file'] = \"/content/\" + data['file']\n",
        "# data.head()"
      ],
      "metadata": {
        "execution": {
          "iopub.status.busy": "2023-08-13T12:39:43.340600Z",
          "iopub.execute_input": "2023-08-13T12:39:43.341008Z",
          "iopub.status.idle": "2023-08-13T12:39:43.356981Z",
          "shell.execute_reply.started": "2023-08-13T12:39:43.340976Z",
          "shell.execute_reply": "2023-08-13T12:39:43.355455Z"
        },
        "trusted": true,
        "id": "IKXxnXq-7cRq"
      },
      "execution_count": 10,
      "outputs": []
    },
    {
      "cell_type": "code",
      "source": [
        "# train_df , test_df = train_test_split(data , test_size = .2 , shuffle =True)\n",
        "# train_df.shape , test_df.shape"
      ],
      "metadata": {
        "execution": {
          "iopub.status.busy": "2023-08-13T12:39:44.590620Z",
          "iopub.execute_input": "2023-08-13T12:39:44.591071Z",
          "iopub.status.idle": "2023-08-13T12:39:44.600921Z",
          "shell.execute_reply.started": "2023-08-13T12:39:44.591039Z",
          "shell.execute_reply": "2023-08-13T12:39:44.599576Z"
        },
        "trusted": true,
        "id": "cnCAehsX7cRr"
      },
      "execution_count": 11,
      "outputs": []
    },
    {
      "cell_type": "code",
      "source": [
        "# ! mkdir data\n",
        "# train_df.to_csv('data/my_file.csv')"
      ],
      "metadata": {
        "execution": {
          "iopub.status.busy": "2023-08-13T12:39:44.812746Z",
          "iopub.execute_input": "2023-08-13T12:39:44.813143Z",
          "iopub.status.idle": "2023-08-13T12:39:44.833166Z",
          "shell.execute_reply.started": "2023-08-13T12:39:44.813112Z",
          "shell.execute_reply": "2023-08-13T12:39:44.831904Z"
        },
        "trusted": true,
        "id": "qepAwkuC7cRr"
      },
      "execution_count": 12,
      "outputs": []
    },
    {
      "cell_type": "code",
      "source": [
        "from pytorchvideo.data import LabeledVideoDataset , make_clip_sampler , labeled_video_dataset\n",
        "\n",
        "from pytorchvideo.transforms import (\n",
        "    ApplyTransformToKey,\n",
        "    Normalize,\n",
        "    RandomShortSideScale,\n",
        "    UniformTemporalSubsample,\n",
        "    Permute\n",
        ")\n",
        "\n",
        "from torchvision.transforms import (\n",
        "    Compose,\n",
        "    Lambda,\n",
        "    RandomCrop,\n",
        "    RandomHorizontalFlip,\n",
        "    Resize\n",
        ")\n",
        "\n",
        "from torchvision.transforms._transforms_video import (\n",
        "    CenterCropVideo,\n",
        "    NormalizeVideo\n",
        ")\n",
        "\n",
        "from torch.utils.data import DataLoader\n",
        "\n",
        "import pytorchvideo"
      ],
      "metadata": {
        "execution": {
          "iopub.status.busy": "2023-08-13T12:39:45.043316Z",
          "iopub.execute_input": "2023-08-13T12:39:45.043747Z",
          "iopub.status.idle": "2023-08-13T12:39:45.051352Z",
          "shell.execute_reply.started": "2023-08-13T12:39:45.043715Z",
          "shell.execute_reply": "2023-08-13T12:39:45.050015Z"
        },
        "trusted": true,
        "colab": {
          "base_uri": "https://localhost:8080/"
        },
        "id": "NE54uxtB7cRr",
        "outputId": "35e9d6d6-5a1d-4d33-bb2b-f2f09f1bd0bc"
      },
      "execution_count": 13,
      "outputs": [
        {
          "output_type": "stream",
          "name": "stderr",
          "text": [
            "/usr/local/lib/python3.10/dist-packages/torchvision/transforms/functional_tensor.py:5: UserWarning: The torchvision.transforms.functional_tensor module is deprecated in 0.15 and will be **removed in 0.17**. Please don't rely on it. You probably just need to use APIs in torchvision.transforms.functional or in torchvision.transforms.v2.functional.\n",
            "  warnings.warn(\n",
            "/usr/local/lib/python3.10/dist-packages/torchvision/transforms/_functional_video.py:6: UserWarning: The 'torchvision.transforms._functional_video' module is deprecated since 0.12 and will be removed in the future. Please use the 'torchvision.transforms.functional' module instead.\n",
            "  warnings.warn(\n",
            "/usr/local/lib/python3.10/dist-packages/torchvision/transforms/_transforms_video.py:22: UserWarning: The 'torchvision.transforms._transforms_video' module is deprecated since 0.12 and will be removed in the future. Please use the 'torchvision.transforms' module instead.\n",
            "  warnings.warn(\n"
          ]
        }
      ]
    },
    {
      "cell_type": "code",
      "source": [
        "video_trans = Compose([\n",
        "    ApplyTransformToKey(key='video',\n",
        "    transform =Compose([\n",
        "        UniformTemporalSubsample(20),\n",
        "        Lambda(lambda x:x / 255),\n",
        "        Normalize((0.45, 0.45 , 0.45),(0.225, 0.225,0.225)),\n",
        "        RandomShortSideScale(min_size=248 , max_size=256),\n",
        "        CenterCropVideo(224),\n",
        "        RandomHorizontalFlip(0.5)\n",
        "\n",
        "    ]))\n",
        "])"
      ],
      "metadata": {
        "execution": {
          "iopub.status.busy": "2023-08-13T12:39:45.271818Z",
          "iopub.execute_input": "2023-08-13T12:39:45.272627Z",
          "iopub.status.idle": "2023-08-13T12:39:45.280174Z",
          "shell.execute_reply.started": "2023-08-13T12:39:45.272583Z",
          "shell.execute_reply": "2023-08-13T12:39:45.279197Z"
        },
        "trusted": true,
        "id": "RgpLTUND7cRr"
      },
      "execution_count": 14,
      "outputs": []
    },
    {
      "cell_type": "code",
      "source": [
        "# train_dataset = labeled_video_dataset(\"Real Life Violence Dataset\" , clip_sampler =make_clip_sampler('random',2),\n",
        "#                                      transform=video_trans,decode_audio=False\n",
        "#                                      )\n",
        "\n",
        "# train_loader = DataLoader(train_dataset, batch_size =4 , num_workers= 2 , pin_memory=True)"
      ],
      "metadata": {
        "execution": {
          "iopub.status.busy": "2023-08-13T12:39:45.583606Z",
          "iopub.execute_input": "2023-08-13T12:39:45.584477Z",
          "iopub.status.idle": "2023-08-13T12:39:45.703378Z",
          "shell.execute_reply.started": "2023-08-13T12:39:45.584432Z",
          "shell.execute_reply": "2023-08-13T12:39:45.701712Z"
        },
        "trusted": true,
        "id": "2QRX057f7cRr"
      },
      "execution_count": 15,
      "outputs": []
    },
    {
      "cell_type": "code",
      "source": [
        "# batch = next(iter(train_loader))\n",
        "# batch.keys()"
      ],
      "metadata": {
        "execution": {
          "iopub.status.busy": "2023-08-13T12:39:01.169932Z",
          "iopub.execute_input": "2023-08-13T12:39:01.170355Z",
          "iopub.status.idle": "2023-08-13T12:39:01.284353Z",
          "shell.execute_reply.started": "2023-08-13T12:39:01.170321Z",
          "shell.execute_reply": "2023-08-13T12:39:01.282763Z"
        },
        "trusted": true,
        "id": "vDAckiOI7cRr"
      },
      "execution_count": 16,
      "outputs": []
    },
    {
      "cell_type": "code",
      "source": [
        "# batch['label'].shape"
      ],
      "metadata": {
        "id": "RB_Vkei_7cRs"
      },
      "execution_count": 17,
      "outputs": []
    },
    {
      "cell_type": "code",
      "source": [
        "import torch.nn as nn\n",
        "import torch\n",
        "from pytorch_lightning import LightningModule ,seed_everything, Trainer\n",
        "from pytorch_lightning.callbacks import ModelCheckpoint , LearningRateMonitor\n",
        "from torch.optim.lr_scheduler import CosineAnnealingLR\n",
        "import torchmetrics\n",
        "from sklearn.metrics import classification_report"
      ],
      "metadata": {
        "id": "M-SpB_xhGYuU"
      },
      "execution_count": 18,
      "outputs": []
    },
    {
      "cell_type": "code",
      "source": [
        "# base_model = torch.hub.load(\"facebookresearch/pytorchvideo\",model = 'efficient_x3d_xs' , pretrained=True)\n",
        "# # base_model"
      ],
      "metadata": {
        "id": "Wbupq06pSGKy"
      },
      "execution_count": 19,
      "outputs": []
    },
    {
      "cell_type": "code",
      "source": [
        "class CustomModel(LightningModule):\n",
        "\n",
        "  def __init__(self):\n",
        "    super().__init__()\n",
        "    self.base_model = torch.hub.load(\"facebookresearch/pytorchvideo\",model = 'efficient_x3d_xs' , pretrained=True)\n",
        "\n",
        "    self.linear = nn.Linear(400 , 1)\n",
        "    self.relu = nn.ReLU()\n",
        "    self.sigmoid = nn.Sigmoid()\n",
        "\n",
        "\n",
        "    self.batch_size = 2\n",
        "    self.num_worker = 0\n",
        "    self.lr = 1e-3\n",
        "\n",
        "    self.loss_fn = nn.BCEWithLogitsLoss()\n",
        "    self.metric = torchmetrics.classification.BinaryAccuracy()\n",
        "\n",
        "    self.training_step_outputs = []\n",
        "\n",
        "\n",
        "  def forward(self, video):\n",
        "\n",
        "    net =self.base_model(video)\n",
        "\n",
        "    net = self.relu(net)\n",
        "\n",
        "    net = self.linear(net)\n",
        "\n",
        "    net = self.sigmoid(net)\n",
        "\n",
        "    return net\n",
        "\n",
        "  def configure_optimizers(self):\n",
        "    optimizer = torch.optim.AdamW(self.parameters() , lr= self.lr)\n",
        "    scheduler = CosineAnnealingLR(optimizer , T_max=10 , eta_min = 1e-6 , last_epoch=-1)\n",
        "\n",
        "    return {\"optimizer\" : optimizer , \"scheduler\" : scheduler}\n",
        "\n",
        "  def train_dataloader(self):\n",
        "    train_dataset = labeled_video_dataset(\"Real Life Violence Dataset\" , clip_sampler =make_clip_sampler('random',2),\n",
        "                                     transform=video_trans,decode_audio=False\n",
        "                                     )\n",
        "\n",
        "    train_loader = DataLoader(train_dataset, batch_size =self.batch_size , num_workers= self.num_worker , pin_memory=True)\n",
        "\n",
        "    return train_loader\n",
        "\n",
        "\n",
        "\n",
        "  def training_step(self, batch, batch_idx):\n",
        "\n",
        "    video, label = batch['video'] , batch['label']\n",
        "\n",
        "    output = self(video).squeeze()\n",
        "\n",
        "    output = torch.round(output)\n",
        "\n",
        "\n",
        "\n",
        "    # print(f\"tpye of ouput is {output.dtype} , type of label is {label.dtype}\")\n",
        "\n",
        "    # print(output , label)\n",
        "\n",
        "    loss = self.loss_fn(output , label.float())\n",
        "\n",
        "\n",
        "    metric = self.metric(output , label.to(torch.int64))\n",
        "\n",
        "    self.training_step_outputs.append( {\"loss\": loss , \"metric\" : metric.detach() })\n",
        "\n",
        "    return loss\n",
        "\n",
        "\n",
        "  def on_train_epoch_end(self):\n",
        "\n",
        "    loss = torch.stack([x['loss'] for x in self.training_step_outputs]).mean().cpu().numpy().round(2)\n",
        "    metric = torch.stack([x['metric'] for x in self.training_step_outputs]).mean().cpu().numpy().round(2)\n",
        "\n",
        "    self.log(\"training Accuracy \", metric)\n",
        "    self.log(\"Training Loss\" , loss)\n",
        "\n",
        "    self.training_step_outputs.clear()\n",
        "\n",
        "\n",
        "\n"
      ],
      "metadata": {
        "id": "cgyRmM0tCWNc"
      },
      "execution_count": 20,
      "outputs": []
    },
    {
      "cell_type": "code",
      "source": [
        "model = CustomModel()\n",
        "# output = model.training_step(batch,0)"
      ],
      "metadata": {
        "colab": {
          "base_uri": "https://localhost:8080/"
        },
        "id": "GgBXEl6BSJoz",
        "outputId": "547b1a59-4424-4aa2-994d-9b69bed599d2"
      },
      "execution_count": 21,
      "outputs": [
        {
          "output_type": "stream",
          "name": "stderr",
          "text": [
            "Downloading: \"https://github.com/facebookresearch/pytorchvideo/zipball/main\" to /root/.cache/torch/hub/main.zip\n",
            "Downloading: \"https://dl.fbaipublicfiles.com/pytorchvideo/model_zoo/kinetics/efficient_x3d_xs_original_form.pyth\" to /root/.cache/torch/hub/checkpoints/efficient_x3d_xs_original_form.pyth\n",
            "100%|██████████| 14.8M/14.8M [00:00<00:00, 230MB/s]\n"
          ]
        }
      ]
    },
    {
      "cell_type": "code",
      "source": [],
      "metadata": {
        "id": "wLRpEgICkq5x"
      },
      "execution_count": 21,
      "outputs": []
    },
    {
      "cell_type": "code",
      "source": [
        "seed_everything(0)\n",
        "trainer = Trainer(max_epochs=1,accelerator='gpu',\n",
        "                  precision=16,accumulate_grad_batches=2,\n",
        "                  enable_progress_bar=True,\n",
        "                  num_sanity_val_steps=0)"
      ],
      "metadata": {
        "colab": {
          "base_uri": "https://localhost:8080/"
        },
        "id": "K9J0go-SYlGu",
        "outputId": "53230725-0b7f-4c38-94cb-4c7b6788d61b"
      },
      "execution_count": 22,
      "outputs": [
        {
          "output_type": "stream",
          "name": "stderr",
          "text": [
            "INFO:lightning_fabric.utilities.seed:Global seed set to 0\n",
            "/usr/local/lib/python3.10/dist-packages/lightning_fabric/connector.py:554: UserWarning: 16 is supported for historical reasons but its usage is discouraged. Please set your precision to 16-mixed instead!\n",
            "  rank_zero_warn(\n",
            "INFO:pytorch_lightning.utilities.rank_zero:Using 16bit Automatic Mixed Precision (AMP)\n",
            "INFO:pytorch_lightning.utilities.rank_zero:GPU available: True (cuda), used: True\n",
            "INFO:pytorch_lightning.utilities.rank_zero:TPU available: False, using: 0 TPU cores\n",
            "INFO:pytorch_lightning.utilities.rank_zero:IPU available: False, using: 0 IPUs\n",
            "INFO:pytorch_lightning.utilities.rank_zero:HPU available: False, using: 0 HPUs\n"
          ]
        }
      ]
    },
    {
      "cell_type": "code",
      "source": [
        "trainer.fit(model)"
      ],
      "metadata": {
        "colab": {
          "base_uri": "https://localhost:8080/",
          "height": 361,
          "referenced_widgets": [
            "a4479c54026d4f5294052513ee96bb82",
            "634616a1640d4a17984748489a7a50e3",
            "c7b2ade0dfee4bf5a43b6dabbe2855ba",
            "90cce9c6fa7d4023a466369c66924a94",
            "8abf6a84765948aa800e98d18b6f1420",
            "0c411ab81f764c6ebecc452576cdde59",
            "2ac51d6669f64e15bde6609fa16b4c21",
            "2da39f01ebf0469081227ce1b344a87a",
            "48826fb91bb94a48b002d3c248424fda",
            "4f038b9560904b8bae74db5b32c097b9",
            "aeb24b563fb84276a8c98e51adc25ec0"
          ]
        },
        "id": "Y_EuyDFRZrpm",
        "outputId": "bea22776-7e27-4e1a-da92-6c101cb0da88"
      },
      "execution_count": null,
      "outputs": [
        {
          "output_type": "stream",
          "name": "stderr",
          "text": [
            "WARNING:pytorch_lightning.loggers.tensorboard:Missing logger folder: /content/lightning_logs\n",
            "INFO:pytorch_lightning.accelerators.cuda:LOCAL_RANK: 0 - CUDA_VISIBLE_DEVICES: [0]\n",
            "/usr/local/lib/python3.10/dist-packages/pytorch_lightning/core/optimizer.py:361: RuntimeWarning: Found unsupported keys in the optimizer configuration: {'scheduler'}\n",
            "  rank_zero_warn(\n",
            "INFO:pytorch_lightning.callbacks.model_summary:\n",
            "  | Name       | Type              | Params\n",
            "-------------------------------------------------\n",
            "0 | base_model | EfficientX3d      | 3.8 M \n",
            "1 | linear     | Linear            | 401   \n",
            "2 | relu       | ReLU              | 0     \n",
            "3 | sigmoid    | Sigmoid           | 0     \n",
            "4 | loss_fn    | BCEWithLogitsLoss | 0     \n",
            "5 | metric     | BinaryAccuracy    | 0     \n",
            "-------------------------------------------------\n",
            "3.8 M     Trainable params\n",
            "0         Non-trainable params\n",
            "3.8 M     Total params\n",
            "15.179    Total estimated model params size (MB)\n"
          ]
        },
        {
          "output_type": "display_data",
          "data": {
            "text/plain": [
              "Training: 0it [00:00, ?it/s]"
            ],
            "application/vnd.jupyter.widget-view+json": {
              "version_major": 2,
              "version_minor": 0,
              "model_id": "a4479c54026d4f5294052513ee96bb82"
            }
          },
          "metadata": {}
        }
      ]
    },
    {
      "cell_type": "code",
      "source": [],
      "metadata": {
        "id": "FjoetbXhcexf"
      },
      "execution_count": null,
      "outputs": []
    }
  ]
}